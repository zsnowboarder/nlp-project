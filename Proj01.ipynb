{
 "cells": [
  {
   "cell_type": "markdown",
   "id": "815c10b8-fcf0-48cf-9ea1-0df3e1b91f08",
   "metadata": {},
   "source": [
    "# Part A. Planning"
   ]
  },
  {
   "cell_type": "markdown",
   "id": "b0e0c37f-2131-4a6e-8390-59bd29e02721",
   "metadata": {},
   "source": [
    "## 1. Title, Name and References"
   ]
  },
  {
   "cell_type": "markdown",
   "id": "560e0692-5fcd-423a-8dc9-6de1ffd61d3a",
   "metadata": {},
   "source": [
    "- Chiranjeev Sandhu\n",
    "- Jimmy Nham\n",
    "- Kamyar Ghasemi Ghasemvand\n",
    "- Mateus Abdallah Fonseca, 300357823\n",
    "\n",
    "### References\n",
    "* https://neptune.ai/blog/exploratory-data-analysis-natural-language-processing-tools\n",
    "* https://www.datacamp.com/tutorial/text-analytics-beginners-nltk\n",
    "* https://scikit-learn.org/stable/auto_examples/neighbors/plot_classification.html"
   ]
  },
  {
   "cell_type": "markdown",
   "id": "53f57a7c-fcb7-4741-8c34-231592f58b46",
   "metadata": {},
   "source": [
    "## 2. Planning"
   ]
  },
  {
   "cell_type": "markdown",
   "id": "27a7b705-0b06-4e3a-b527-178b4523c0e7",
   "metadata": {},
   "source": [
    "- This project will analyze the following dataset to do some classification. To do this we are going to use some libraries such as pandas, scikit-learn, and statistics models."
   ]
  },
  {
   "cell_type": "markdown",
   "id": "007ac293-1034-4be2-81f8-9e9e04185b0f",
   "metadata": {},
   "source": [
    "# Part B. Basic Model"
   ]
  },
  {
   "cell_type": "markdown",
   "id": "d7fc2672-e1e5-48a8-9f83-bd7bf768b157",
   "metadata": {},
   "source": [
    "## 1. Library import and data loading"
   ]
  },
  {
   "cell_type": "code",
   "execution_count": 31,
   "id": "379def6c-7e59-4f87-b220-64466e8685cc",
   "metadata": {},
   "outputs": [],
   "source": [
    "import pandas as pd\n",
    "import string\n",
    "\n",
    "from sklearn.feature_extraction.text import TfidfVectorizer\n",
    "from sklearn.feature_extraction import _stop_words\n",
    "\n",
    "from sklearn.naive_bayes import MultinomialNB\n",
    "from sklearn.linear_model import LogisticRegression\n",
    "from sklearn.svm import LinearSVC\n",
    "from sklearn.metrics import accuracy_score\n",
    "\n",
    "from sklearn.metrics import classification_report"
   ]
  },
  {
   "cell_type": "code",
   "execution_count": 33,
   "id": "9226ed82-96f4-40da-9084-6bd55a790a4f",
   "metadata": {},
   "outputs": [
    {
     "data": {
      "text/html": [
       "<div>\n",
       "<style scoped>\n",
       "    .dataframe tbody tr th:only-of-type {\n",
       "        vertical-align: middle;\n",
       "    }\n",
       "\n",
       "    .dataframe tbody tr th {\n",
       "        vertical-align: top;\n",
       "    }\n",
       "\n",
       "    .dataframe thead th {\n",
       "        text-align: right;\n",
       "    }\n",
       "</style>\n",
       "<table border=\"1\" class=\"dataframe\">\n",
       "  <thead>\n",
       "    <tr style=\"text-align: right;\">\n",
       "      <th></th>\n",
       "      <th>Unnamed: 0</th>\n",
       "      <th>text</th>\n",
       "      <th>label</th>\n",
       "    </tr>\n",
       "  </thead>\n",
       "  <tbody>\n",
       "    <tr>\n",
       "      <th>0</th>\n",
       "      <td>0</td>\n",
       "      <td>− Scope 3: Optional scope that includes indire...</td>\n",
       "      <td>0</td>\n",
       "    </tr>\n",
       "    <tr>\n",
       "      <th>1</th>\n",
       "      <td>1</td>\n",
       "      <td>The Group is not aware of any noise pollution ...</td>\n",
       "      <td>0</td>\n",
       "    </tr>\n",
       "    <tr>\n",
       "      <th>2</th>\n",
       "      <td>2</td>\n",
       "      <td>Global climate change could exacerbate certain...</td>\n",
       "      <td>0</td>\n",
       "    </tr>\n",
       "    <tr>\n",
       "      <th>3</th>\n",
       "      <td>3</td>\n",
       "      <td>Setting an investment horizon is part and parc...</td>\n",
       "      <td>1</td>\n",
       "    </tr>\n",
       "    <tr>\n",
       "      <th>4</th>\n",
       "      <td>4</td>\n",
       "      <td>Climate change the physical impacts of climate...</td>\n",
       "      <td>0</td>\n",
       "    </tr>\n",
       "    <tr>\n",
       "      <th>...</th>\n",
       "      <td>...</td>\n",
       "      <td>...</td>\n",
       "      <td>...</td>\n",
       "    </tr>\n",
       "    <tr>\n",
       "      <th>995</th>\n",
       "      <td>995</td>\n",
       "      <td>Greenhouse gas Mitigation Measures Our five ye...</td>\n",
       "      <td>1</td>\n",
       "    </tr>\n",
       "    <tr>\n",
       "      <th>996</th>\n",
       "      <td>996</td>\n",
       "      <td>We have updated our external sector statements...</td>\n",
       "      <td>1</td>\n",
       "    </tr>\n",
       "    <tr>\n",
       "      <th>997</th>\n",
       "      <td>997</td>\n",
       "      <td>STOREBRAND'S USE Task Force on Climate-related...</td>\n",
       "      <td>0</td>\n",
       "    </tr>\n",
       "    <tr>\n",
       "      <th>998</th>\n",
       "      <td>998</td>\n",
       "      <td>Estimations of nanced emissions indicate the i...</td>\n",
       "      <td>0</td>\n",
       "    </tr>\n",
       "    <tr>\n",
       "      <th>999</th>\n",
       "      <td>999</td>\n",
       "      <td>Emissions of CH4, which account for approximat...</td>\n",
       "      <td>0</td>\n",
       "    </tr>\n",
       "  </tbody>\n",
       "</table>\n",
       "<p>1000 rows × 3 columns</p>\n",
       "</div>"
      ],
      "text/plain": [
       "     Unnamed: 0                                               text  label\n",
       "0             0  − Scope 3: Optional scope that includes indire...      0\n",
       "1             1  The Group is not aware of any noise pollution ...      0\n",
       "2             2  Global climate change could exacerbate certain...      0\n",
       "3             3  Setting an investment horizon is part and parc...      1\n",
       "4             4  Climate change the physical impacts of climate...      0\n",
       "..          ...                                                ...    ...\n",
       "995         995  Greenhouse gas Mitigation Measures Our five ye...      1\n",
       "996         996  We have updated our external sector statements...      1\n",
       "997         997  STOREBRAND'S USE Task Force on Climate-related...      0\n",
       "998         998  Estimations of nanced emissions indicate the i...      0\n",
       "999         999  Emissions of CH4, which account for approximat...      0\n",
       "\n",
       "[1000 rows x 3 columns]"
      ]
     },
     "execution_count": 33,
     "metadata": {},
     "output_type": "execute_result"
    }
   ],
   "source": [
    "train_df = pd.read_csv(\"climate_data/climate_train.csv\")\n",
    "#train_df = pd.read_csv(\"climate_train.csv\")\n",
    "train_df"
   ]
  },
  {
   "cell_type": "code",
   "execution_count": 35,
   "id": "f260b9a3-5778-49fd-a085-46de293ae192",
   "metadata": {
    "scrolled": true
   },
   "outputs": [
    {
     "data": {
      "text/html": [
       "<div>\n",
       "<style scoped>\n",
       "    .dataframe tbody tr th:only-of-type {\n",
       "        vertical-align: middle;\n",
       "    }\n",
       "\n",
       "    .dataframe tbody tr th {\n",
       "        vertical-align: top;\n",
       "    }\n",
       "\n",
       "    .dataframe thead th {\n",
       "        text-align: right;\n",
       "    }\n",
       "</style>\n",
       "<table border=\"1\" class=\"dataframe\">\n",
       "  <thead>\n",
       "    <tr style=\"text-align: right;\">\n",
       "      <th></th>\n",
       "      <th>Unnamed: 0</th>\n",
       "      <th>text</th>\n",
       "      <th>label</th>\n",
       "    </tr>\n",
       "  </thead>\n",
       "  <tbody>\n",
       "    <tr>\n",
       "      <th>0</th>\n",
       "      <td>0</td>\n",
       "      <td>Sustainable strategy ‘red lines’ For our susta...</td>\n",
       "      <td>1</td>\n",
       "    </tr>\n",
       "    <tr>\n",
       "      <th>1</th>\n",
       "      <td>1</td>\n",
       "      <td>Verizon’s environmental, health and safety man...</td>\n",
       "      <td>0</td>\n",
       "    </tr>\n",
       "    <tr>\n",
       "      <th>2</th>\n",
       "      <td>2</td>\n",
       "      <td>In 2019, the Company closed a series of transa...</td>\n",
       "      <td>1</td>\n",
       "    </tr>\n",
       "    <tr>\n",
       "      <th>3</th>\n",
       "      <td>3</td>\n",
       "      <td>In December 2020, the AUC approved the Electri...</td>\n",
       "      <td>0</td>\n",
       "    </tr>\n",
       "    <tr>\n",
       "      <th>4</th>\n",
       "      <td>4</td>\n",
       "      <td>Finally, there is a reputational risk linked t...</td>\n",
       "      <td>0</td>\n",
       "    </tr>\n",
       "    <tr>\n",
       "      <th>...</th>\n",
       "      <td>...</td>\n",
       "      <td>...</td>\n",
       "      <td>...</td>\n",
       "    </tr>\n",
       "    <tr>\n",
       "      <th>315</th>\n",
       "      <td>315</td>\n",
       "      <td>Indirect emissions result from operational act...</td>\n",
       "      <td>0</td>\n",
       "    </tr>\n",
       "    <tr>\n",
       "      <th>316</th>\n",
       "      <td>316</td>\n",
       "      <td>All data in this TCFD report is as of, or for ...</td>\n",
       "      <td>0</td>\n",
       "    </tr>\n",
       "    <tr>\n",
       "      <th>317</th>\n",
       "      <td>317</td>\n",
       "      <td>Outcome: The bank explained that it would be w...</td>\n",
       "      <td>1</td>\n",
       "    </tr>\n",
       "    <tr>\n",
       "      <th>318</th>\n",
       "      <td>318</td>\n",
       "      <td>In 2020, Banco do Brasil Foundation celebrated...</td>\n",
       "      <td>1</td>\n",
       "    </tr>\n",
       "    <tr>\n",
       "      <th>319</th>\n",
       "      <td>319</td>\n",
       "      <td>Climate change is producing changes in weather...</td>\n",
       "      <td>0</td>\n",
       "    </tr>\n",
       "  </tbody>\n",
       "</table>\n",
       "<p>320 rows × 3 columns</p>\n",
       "</div>"
      ],
      "text/plain": [
       "     Unnamed: 0                                               text  label\n",
       "0             0  Sustainable strategy ‘red lines’ For our susta...      1\n",
       "1             1  Verizon’s environmental, health and safety man...      0\n",
       "2             2  In 2019, the Company closed a series of transa...      1\n",
       "3             3  In December 2020, the AUC approved the Electri...      0\n",
       "4             4  Finally, there is a reputational risk linked t...      0\n",
       "..          ...                                                ...    ...\n",
       "315         315  Indirect emissions result from operational act...      0\n",
       "316         316  All data in this TCFD report is as of, or for ...      0\n",
       "317         317  Outcome: The bank explained that it would be w...      1\n",
       "318         318  In 2020, Banco do Brasil Foundation celebrated...      1\n",
       "319         319  Climate change is producing changes in weather...      0\n",
       "\n",
       "[320 rows x 3 columns]"
      ]
     },
     "execution_count": 35,
     "metadata": {},
     "output_type": "execute_result"
    }
   ],
   "source": [
    "test_df = pd.read_csv(\"climate_data/climate_test.csv\")\n",
    "#test_df = pd.read_csv(\"climate_test.csv\")\n",
    "test_df"
   ]
  },
  {
   "cell_type": "markdown",
   "id": "26517267-96b3-4ff2-a457-9928de1be726",
   "metadata": {},
   "source": [
    "## 2. Data exploration, pre-processing and cleansing\n",
    "- i.  to explore the dataset \n",
    "- ii. convert labels to number if necessary \n",
    "- iii. to pre-process the dataset by removing digits, stopwords"
   ]
  },
  {
   "cell_type": "code",
   "execution_count": 38,
   "id": "b77fd853-8dc6-424b-8a70-2bb10bb0956d",
   "metadata": {},
   "outputs": [
    {
     "name": "stdout",
     "output_type": "stream",
     "text": [
      "Train set\n",
      "Unnamed: 0    0\n",
      "text          0\n",
      "label         0\n",
      "dtype: int64 \n",
      "\n",
      "Test set\n",
      "Unnamed: 0    0\n",
      "text          0\n",
      "label         0\n",
      "dtype: int64\n"
     ]
    }
   ],
   "source": [
    "print('Train set')\n",
    "print(train_df.isna().sum(), '\\n')\n",
    "print('Test set')\n",
    "print(test_df.isna().sum())"
   ]
  },
  {
   "cell_type": "code",
   "execution_count": 40,
   "id": "f4a0dc4c-d17e-4d81-b580-705db172063d",
   "metadata": {},
   "outputs": [
    {
     "data": {
      "text/plain": [
       "'We emitted 13.4 million tonnes CO2 of Scope 2 (indirect emissions), being emissions arising from our consumption of purchased electricity, steam or heat. Our Scope 3 emissions include emissions from a broad range of sources, including shipping and land transportation. More details on our Scope 3 emissions will be available in our 2014'"
      ]
     },
     "execution_count": 40,
     "metadata": {},
     "output_type": "execute_result"
    }
   ],
   "source": [
    "(train_df[\"text\"].iloc[6])"
   ]
  },
  {
   "cell_type": "code",
   "execution_count": 42,
   "id": "bef98e17-8499-4db6-9128-83f146e89bf4",
   "metadata": {},
   "outputs": [
    {
     "data": {
      "text/plain": [
       "<Axes: >"
      ]
     },
     "execution_count": 42,
     "metadata": {},
     "output_type": "execute_result"
    },
    {
     "data": {
      "image/png": "[encoded data removed]",
      "text/plain": [
       "<Figure size 640x480 with 1 Axes>"
      ]
     },
     "metadata": {},
     "output_type": "display_data"
    }
   ],
   "source": [
    "# Following histogram shows that text range from 100 to 3000 characters, \n",
    "# and in most of the case it is between 100 to 600 characters\n",
    "\n",
    "\n",
    "train_df[\"text\"].str.len().hist()\n"
   ]
  },
  {
   "cell_type": "code",
   "execution_count": 44,
   "id": "4fd300db-8e85-4f7f-87cd-ceb0047be646",
   "metadata": {},
   "outputs": [
    {
     "data": {
      "text/plain": [
       "<Axes: >"
      ]
     },
     "execution_count": 44,
     "metadata": {},
     "output_type": "execute_result"
    },
    {
     "data": {
      "image/png": "[encoded data removed]",
      "text/plain": [
       "<Figure size 640x480 with 1 Axes>"
      ]
     },
     "metadata": {},
     "output_type": "display_data"
    }
   ],
   "source": [
    "# This histogram shows the number of words. It ranges from 20 to 400 words and \n",
    "# mostly falls between 50 to 100 words.\n",
    "\n",
    "train_df[\"text\"].str.split().map(lambda x: len(x)).hist()"
   ]
  },
  {
   "cell_type": "code",
   "execution_count": 46,
   "id": "c323782b-21d3-4d03-944e-96df13a0f590",
   "metadata": {},
   "outputs": [
    {
     "data": {
      "text/plain": [
       "(1000, 3)"
      ]
     },
     "metadata": {},
     "output_type": "display_data"
    },
    {
     "data": {
      "text/plain": [
       "label\n",
       "0    0.575\n",
       "1    0.425\n",
       "Name: count, dtype: float64"
      ]
     },
     "execution_count": 46,
     "metadata": {},
     "output_type": "execute_result"
    }
   ],
   "source": [
    "# Explore the dataset\n",
    "display(train_df.shape)\n",
    "train_df['label'].value_counts()/train_df.shape[0]"
   ]
  },
  {
   "cell_type": "markdown",
   "id": "fe89753c-4395-4dc8-8d28-6011cc8f9175",
   "metadata": {},
   "source": [
    "### The dataset appears to be quite balanced. The labels are already in numbers. It is not neccessary to convert them to numbers"
   ]
  },
  {
   "cell_type": "code",
   "execution_count": 49,
   "id": "a37d7646-a288-4ba5-9842-00915333aa6c",
   "metadata": {},
   "outputs": [
    {
     "name": "stdout",
     "output_type": "stream",
     "text": [
      "(1000, 2)\n",
      "(320, 3)\n"
     ]
    }
   ],
   "source": [
    "# use only the text and label columns for the classification\n",
    "\n",
    "train_df = train_df[['text','label']]\n",
    "X_train = train_df.text\n",
    "y_train = train_df.label\n",
    "\n",
    "print(train_df.shape)\n",
    "\n",
    "test_data = test_df[['text','label']]\n",
    "X_test = test_df.text\n",
    "y_test = test_df.label\n",
    "print(test_df.shape)\n",
    "\n"
   ]
  },
  {
   "cell_type": "code",
   "execution_count": 51,
   "id": "f73f6037-0072-406d-9856-6f1a59038a7b",
   "metadata": {},
   "outputs": [],
   "source": [
    "# digits and stopwords removal function\n",
    "\n",
    "stopwords = _stop_words.ENGLISH_STOP_WORDS\n",
    "def clean(doc): # doc is a string of text\n",
    "    doc = \"\".join([char for char in doc if char not in string.punctuation and not char.isdigit()])\n",
    "    doc = \" \".join([token for token in doc.split() if token not in stopwords])\n",
    "    return doc\n"
   ]
  },
  {
   "cell_type": "markdown",
   "id": "9f0f8730-d26b-4b7b-aae7-d2473df73677",
   "metadata": {},
   "source": [
    "## 3. Feature generation\n",
    "\n",
    "- In this step, use TF-IDF to represent each data in both training set and test set"
   ]
  },
  {
   "cell_type": "code",
   "execution_count": 54,
   "id": "e6654bba-5f9a-43cd-a606-f80e38dad305",
   "metadata": {},
   "outputs": [],
   "source": [
    "# apply tokenization and clean the text\n",
    "\n",
    "vect = TfidfVectorizer(preprocessor=clean)\n",
    "X_train_dtm = vect.fit_transform(X_train)\n",
    "X_test_dtm = vect.transform(X_test)"
   ]
  },
  {
   "cell_type": "markdown",
   "id": "db85b3c3-d8b9-417b-9412-479e33280e9c",
   "metadata": {},
   "source": [
    "### 4. Model building\n",
    "\n",
    "- Use Naïve Bayes (Multinominal) Model to train a model."
   ]
  },
  {
   "cell_type": "code",
   "execution_count": 57,
   "id": "3323deec-bb2c-4330-842c-fb868e178386",
   "metadata": {},
   "outputs": [
    {
     "name": "stdout",
     "output_type": "stream",
     "text": [
      "CPU times: total: 15.6 ms\n",
      "Wall time: 6.97 ms\n"
     ]
    }
   ],
   "source": [
    "# Naive Bayes Model\n",
    "\n",
    "nb = MultinomialNB()\n",
    "%time nb.fit(X_train_dtm, y_train)\n",
    "nb_pred = nb.predict(X_test_dtm)"
   ]
  },
  {
   "cell_type": "markdown",
   "id": "f347798e-ec8d-43ef-acaa-cb0a79df3181",
   "metadata": {},
   "source": [
    "### 5. Testing and evaluation\n",
    "\n",
    "- Test the model in test set\n",
    "- Use suitable metrics to evaluate the performance of the model\n"
   ]
  },
  {
   "cell_type": "code",
   "execution_count": 60,
   "id": "4a103a62-1aa6-4126-b22e-445ed5aff91b",
   "metadata": {},
   "outputs": [
    {
     "name": "stdout",
     "output_type": "stream",
     "text": [
      "NB\n",
      "               precision    recall  f1-score   support\n",
      "\n",
      "           0       0.81      0.90      0.85       222\n",
      "           1       0.70      0.53      0.60        98\n",
      "\n",
      "    accuracy                           0.79       320\n",
      "   macro avg       0.76      0.72      0.73       320\n",
      "weighted avg       0.78      0.79      0.78       320\n",
      "\n"
     ]
    }
   ],
   "source": [
    "print(\"NB\\n\",classification_report(y_test, nb_pred))"
   ]
  },
  {
   "cell_type": "markdown",
   "id": "54ad468c-a514-4951-b0e8-9892010f7715",
   "metadata": {},
   "source": [
    "### 6. Post analysis\n",
    "\n",
    "Research on how to identify the most impactful features (tokens) to classify climate action \n",
    "statement.\n",
    "\n",
    "\n",
    "- Selecting the appropriate features for the model is essential step. Some techniques are use to calculates a score for all the input features.\n",
    "- Those scores represents the importance of each feature. The higher scores usually stay and the lower scores are deleted.\n",
    "- Correlation matrix allows you to understand the relationship between the features and the target. Also identify irrelevant features.\n",
    "  \n"
   ]
  },
  {
   "cell_type": "markdown",
   "id": "1c66e9c1-8496-4ef3-851a-b4641cd862d6",
   "metadata": {},
   "source": [
    "# Part C. Comparison with other models\n",
    "\n",
    "## 1. Classifier comparison\n",
    "i. Using the same features you found in Step 3 of Part A, training different classifiers: \n",
    "* Logistic Regression,\n",
    "* Linear SVM,\n",
    "* K-Nearest-Neighbour (You need to research on how to do this).\n",
    "  \n",
    "ii. Evaluate these models in test set\\\n",
    "iii. Compare the performance and make a conclusions"
   ]
  },
  {
   "cell_type": "code",
   "execution_count": 64,
   "id": "a78a0498-14e9-4b3a-b71c-77e41a8d576e",
   "metadata": {},
   "outputs": [],
   "source": [
    "# Logistic Regression\n",
    "\n",
    "logreg = LogisticRegression()\n",
    "logreg.fit(X_train_dtm, y_train)\n",
    "logreg_pred = logreg.predict(X_test_dtm)\n"
   ]
  },
  {
   "cell_type": "code",
   "execution_count": 66,
   "id": "a35ca900-018d-4d03-8fe3-19971968112f",
   "metadata": {},
   "outputs": [
    {
     "name": "stdout",
     "output_type": "stream",
     "text": [
      "Logistic Regression\n",
      "               precision    recall  f1-score   support\n",
      "\n",
      "           0       0.82      0.87      0.84       222\n",
      "           1       0.66      0.55      0.60        98\n",
      "\n",
      "    accuracy                           0.78       320\n",
      "   macro avg       0.74      0.71      0.72       320\n",
      "weighted avg       0.77      0.78      0.77       320\n",
      "\n"
     ]
    }
   ],
   "source": [
    "print(\"Logistic Regression\\n\",classification_report(y_test, logreg_pred))"
   ]
  },
  {
   "cell_type": "code",
   "execution_count": 68,
   "id": "abad5029-6818-4db6-a642-196c40ca1170",
   "metadata": {},
   "outputs": [
    {
     "data": {
      "text/plain": [
       "ABC             0.224263\n",
       "ABN             0.483365\n",
       "ABP             0.525772\n",
       "ABR             0.215304\n",
       "ABS             0.130948\n",
       "                  ...   \n",
       "zerocarbon      0.253700\n",
       "zeroemission    0.208616\n",
       "zloty           0.179913\n",
       "zones           0.252988\n",
       "ºC              0.122238\n",
       "Length: 7322, dtype: float64"
      ]
     },
     "execution_count": 68,
     "metadata": {},
     "output_type": "execute_result"
    }
   ],
   "source": [
    "df_Tfidf_scores = pd.DataFrame(X_train_dtm.toarray(), columns=vect.get_feature_names_out())\n",
    "token_scores = df_Tfidf_scores.sum(axis=0)\n",
    "\n",
    "# Select the top 10 tokens with the highest scores\n",
    "top_10_tokens = token_scores.nlargest(10)\n",
    "top_10_tokens\n",
    "\n",
    "token_scores"
   ]
  },
  {
   "cell_type": "code",
   "execution_count": 70,
   "id": "5d6d0bee-d710-4fd7-aa35-f09b25862b6d",
   "metadata": {},
   "outputs": [
    {
     "name": "stdout",
     "output_type": "stream",
     "text": [
      "              precision    recall  f1-score   support\n",
      "\n",
      "           0       0.86      0.79      0.83       222\n",
      "           1       0.60      0.71      0.65        98\n",
      "\n",
      "    accuracy                           0.77       320\n",
      "   macro avg       0.73      0.75      0.74       320\n",
      "weighted avg       0.78      0.77      0.77       320\n",
      "\n",
      "Accuracy:  0.76875\n"
     ]
    },
    {
     "name": "stderr",
     "output_type": "stream",
     "text": [
      "C:\\Users\\zsnow\\anaconda3\\Lib\\site-packages\\sklearn\\svm\\_classes.py:32: FutureWarning: The default value of `dual` will change from `True` to `'auto'` in 1.5. Set the value of `dual` explicitly to suppress the warning.\n",
      "  warnings.warn(\n"
     ]
    }
   ],
   "source": [
    "# Linear SVM\n",
    "svm = LinearSVC(class_weight=\"balanced\")\n",
    "svm.fit(X_train_dtm, y_train)\n",
    "\n",
    "y_pred_class = svm.predict(X_test_dtm)\n",
    "\n",
    "print(classification_report(y_test, y_pred_class))\n",
    "print('Accuracy: ', accuracy_score(y_test, y_pred_class))"
   ]
  },
  {
   "cell_type": "code",
   "execution_count": null,
   "id": "95dd1ce7-5751-4c6e-9910-47c6e96821db",
   "metadata": {},
   "outputs": [],
   "source": [
    "# KNN Model\n",
    "\n"
   ]
  },
  {
   "cell_type": "code",
   "execution_count": null,
   "id": "50222a7c-7715-4fa2-a5af-3330603b3005",
   "metadata": {},
   "outputs": [],
   "source": []
  },
  {
   "cell_type": "code",
   "execution_count": null,
   "id": "b9703f37-7560-4083-a5f1-b6b4c196c04a",
   "metadata": {},
   "outputs": [],
   "source": []
  },
  {
   "cell_type": "markdown",
   "id": "457be379-bca1-4060-83dd-7577ed0daeb0",
   "metadata": {},
   "source": [
    "## C. Member Contribution\n",
    "\n",
    "|Evaluator|Chiranjeev Sandhu|Jimmy Nham|Kamyar Ghasemi Ghasemvand|Mateus Abdallah Fonseca|\n",
    "|--|--|--|--|--|\n",
    "|Chiranjeev Sandhu|N/A|--|--|--|\n",
    "|Jimmy Nham|--|N/A|--|--|\n",
    "|Kamyar Ghasemi Ghasemvand|--|--|N/A|--|\n",
    "|Mateus Abdallah Fonseca|--|--|--|N/A|"
   ]
  }
 ],
 "metadata": {
  "kernelspec": {
   "display_name": "Python 3 (ipykernel)",
   "language": "python",
   "name": "python3"
  },
  "language_info": {
   "codemirror_mode": {
    "name": "ipython",
    "version": 3
   },
   "file_extension": ".py",
   "mimetype": "text/x-python",
   "name": "python",
   "nbconvert_exporter": "python",
   "pygments_lexer": "ipython3",
   "version": "3.11.7"
  }
 },
 "nbformat": 4,
 "nbformat_minor": 5
}
